{
 "cells": [
  {
   "cell_type": "markdown",
   "metadata": {},
   "source": [
    "# Pré-Processamento da Base de Dados - Instituições de Ensino Superior (IES):"
   ]
  },
  {
   "cell_type": "markdown",
   "metadata": {},
   "source": [
    "## Importação das Bibliotecas:"
   ]
  },
  {
   "cell_type": "code",
   "execution_count": 2,
   "metadata": {},
   "outputs": [],
   "source": [
    "import pandas as pd\n",
    "import numpy as np\n",
    "import seaborn as sns\n",
    "from pandas import factorize\n",
    "import re"
   ]
  },
  {
   "cell_type": "markdown",
   "metadata": {},
   "source": [
    "--------------------------------------------"
   ]
  },
  {
   "cell_type": "markdown",
   "metadata": {},
   "source": [
    "## Obtenção dos Datasets:"
   ]
  },
  {
   "cell_type": "code",
   "execution_count": 12,
   "metadata": {},
   "outputs": [
    {
     "data": {
      "text/html": [
       "<div>\n",
       "<style scoped>\n",
       "    .dataframe tbody tr th:only-of-type {\n",
       "        vertical-align: middle;\n",
       "    }\n",
       "\n",
       "    .dataframe tbody tr th {\n",
       "        vertical-align: top;\n",
       "    }\n",
       "\n",
       "    .dataframe thead th {\n",
       "        text-align: right;\n",
       "    }\n",
       "</style>\n",
       "<table border=\"1\" class=\"dataframe\">\n",
       "  <thead>\n",
       "    <tr style=\"text-align: right;\">\n",
       "      <th></th>\n",
       "      <th>Codigo da IES</th>\n",
       "      <th>Natureza</th>\n",
       "      <th>Situacao</th>\n",
       "      <th>DIAS</th>\n",
       "      <th>%</th>\n",
       "      <th>CI N</th>\n",
       "      <th>CI V</th>\n",
       "      <th>IGC_N</th>\n",
       "      <th>IGC_M</th>\n",
       "      <th>IGC_V</th>\n",
       "      <th>EAD_17</th>\n",
       "      <th>variacao mat</th>\n",
       "      <th>mat_T 2017</th>\n",
       "      <th>% FIES</th>\n",
       "      <th>CURSOS</th>\n",
       "      <th>saldo 2017</th>\n",
       "      <th>Variacao 17-16</th>\n",
       "    </tr>\n",
       "  </thead>\n",
       "  <tbody>\n",
       "    <tr>\n",
       "      <th>0</th>\n",
       "      <td>5124</td>\n",
       "      <td>1</td>\n",
       "      <td>Ativa</td>\n",
       "      <td>3941</td>\n",
       "      <td>0.411765</td>\n",
       "      <td>3</td>\n",
       "      <td>3</td>\n",
       "      <td>1.9541</td>\n",
       "      <td>2.0332</td>\n",
       "      <td>2.0332</td>\n",
       "      <td>1</td>\n",
       "      <td>1.207921</td>\n",
       "      <td>101</td>\n",
       "      <td>0.059406</td>\n",
       "      <td>2</td>\n",
       "      <td>2.404375e+08</td>\n",
       "      <td>77.190924</td>\n",
       "    </tr>\n",
       "    <tr>\n",
       "      <th>1</th>\n",
       "      <td>1313</td>\n",
       "      <td>0</td>\n",
       "      <td>Ativa</td>\n",
       "      <td>97</td>\n",
       "      <td>0.625000</td>\n",
       "      <td>4</td>\n",
       "      <td>3</td>\n",
       "      <td>2.3891</td>\n",
       "      <td>2.5598</td>\n",
       "      <td>2.5598</td>\n",
       "      <td>1</td>\n",
       "      <td>-0.048218</td>\n",
       "      <td>2385</td>\n",
       "      <td>0.017191</td>\n",
       "      <td>10</td>\n",
       "      <td>2.404375e+08</td>\n",
       "      <td>9.523631</td>\n",
       "    </tr>\n",
       "    <tr>\n",
       "      <th>2</th>\n",
       "      <td>13856</td>\n",
       "      <td>1</td>\n",
       "      <td>Ativa</td>\n",
       "      <td>2772</td>\n",
       "      <td>0.705882</td>\n",
       "      <td>3</td>\n",
       "      <td>3</td>\n",
       "      <td>2.102</td>\n",
       "      <td>2.102</td>\n",
       "      <td>2.102</td>\n",
       "      <td>0</td>\n",
       "      <td>0.000000</td>\n",
       "      <td>0</td>\n",
       "      <td>0.000000</td>\n",
       "      <td>0</td>\n",
       "      <td>0.000000e+00</td>\n",
       "      <td>0.000000</td>\n",
       "    </tr>\n",
       "    <tr>\n",
       "      <th>3</th>\n",
       "      <td>2380</td>\n",
       "      <td>1</td>\n",
       "      <td>Ativa</td>\n",
       "      <td>616</td>\n",
       "      <td>0.645161</td>\n",
       "      <td>3</td>\n",
       "      <td>3</td>\n",
       "      <td>2.7588</td>\n",
       "      <td>2.7945</td>\n",
       "      <td>2.7945</td>\n",
       "      <td>1</td>\n",
       "      <td>0.089311</td>\n",
       "      <td>2844</td>\n",
       "      <td>0.441280</td>\n",
       "      <td>6</td>\n",
       "      <td>8.838117e+08</td>\n",
       "      <td>0.060665</td>\n",
       "    </tr>\n",
       "    <tr>\n",
       "      <th>4</th>\n",
       "      <td>21685</td>\n",
       "      <td>1</td>\n",
       "      <td>Ativa</td>\n",
       "      <td>161</td>\n",
       "      <td>0.400000</td>\n",
       "      <td>S/C</td>\n",
       "      <td>S/C</td>\n",
       "      <td>S/D</td>\n",
       "      <td>S/D</td>\n",
       "      <td>S/D</td>\n",
       "      <td>0</td>\n",
       "      <td>0.000000</td>\n",
       "      <td>0</td>\n",
       "      <td>0.000000</td>\n",
       "      <td>-3</td>\n",
       "      <td>0.000000e+00</td>\n",
       "      <td>0.000000</td>\n",
       "    </tr>\n",
       "    <tr>\n",
       "      <th>...</th>\n",
       "      <td>...</td>\n",
       "      <td>...</td>\n",
       "      <td>...</td>\n",
       "      <td>...</td>\n",
       "      <td>...</td>\n",
       "      <td>...</td>\n",
       "      <td>...</td>\n",
       "      <td>...</td>\n",
       "      <td>...</td>\n",
       "      <td>...</td>\n",
       "      <td>...</td>\n",
       "      <td>...</td>\n",
       "      <td>...</td>\n",
       "      <td>...</td>\n",
       "      <td>...</td>\n",
       "      <td>...</td>\n",
       "      <td>...</td>\n",
       "    </tr>\n",
       "    <tr>\n",
       "      <th>2172</th>\n",
       "      <td>21215</td>\n",
       "      <td>0</td>\n",
       "      <td>Ativa</td>\n",
       "      <td>516</td>\n",
       "      <td>1.000000</td>\n",
       "      <td>4</td>\n",
       "      <td>S/C</td>\n",
       "      <td>S/D</td>\n",
       "      <td>S/D</td>\n",
       "      <td>S/D</td>\n",
       "      <td>0</td>\n",
       "      <td>0.000000</td>\n",
       "      <td>0</td>\n",
       "      <td>0.000000</td>\n",
       "      <td>0</td>\n",
       "      <td>0.000000e+00</td>\n",
       "      <td>0.000000</td>\n",
       "    </tr>\n",
       "    <tr>\n",
       "      <th>2173</th>\n",
       "      <td>1465</td>\n",
       "      <td>1</td>\n",
       "      <td>Ativa</td>\n",
       "      <td>7042</td>\n",
       "      <td>0.370370</td>\n",
       "      <td>3</td>\n",
       "      <td>3</td>\n",
       "      <td>2.1593</td>\n",
       "      <td>2.4112</td>\n",
       "      <td>2.4112</td>\n",
       "      <td>1</td>\n",
       "      <td>0.524721</td>\n",
       "      <td>1254</td>\n",
       "      <td>0.614035</td>\n",
       "      <td>13</td>\n",
       "      <td>2.404375e+08</td>\n",
       "      <td>6.803505</td>\n",
       "    </tr>\n",
       "    <tr>\n",
       "      <th>2174</th>\n",
       "      <td>638</td>\n",
       "      <td>0</td>\n",
       "      <td>Ativa</td>\n",
       "      <td>885</td>\n",
       "      <td>0.600000</td>\n",
       "      <td>4</td>\n",
       "      <td>S/C</td>\n",
       "      <td>2.5174</td>\n",
       "      <td>2.6176</td>\n",
       "      <td>2.5861</td>\n",
       "      <td>1</td>\n",
       "      <td>-0.038257</td>\n",
       "      <td>1882</td>\n",
       "      <td>0.111052</td>\n",
       "      <td>1</td>\n",
       "      <td>9.297316e+06</td>\n",
       "      <td>0.662687</td>\n",
       "    </tr>\n",
       "    <tr>\n",
       "      <th>2175</th>\n",
       "      <td>13897</td>\n",
       "      <td>1</td>\n",
       "      <td>Ativa</td>\n",
       "      <td>2506</td>\n",
       "      <td>0.400000</td>\n",
       "      <td>3</td>\n",
       "      <td>3</td>\n",
       "      <td>2.3561</td>\n",
       "      <td>2.2901</td>\n",
       "      <td>0</td>\n",
       "      <td>1</td>\n",
       "      <td>-0.047619</td>\n",
       "      <td>357</td>\n",
       "      <td>0.000000</td>\n",
       "      <td>2</td>\n",
       "      <td>1.210978e+06</td>\n",
       "      <td>-0.000753</td>\n",
       "    </tr>\n",
       "    <tr>\n",
       "      <th>2176</th>\n",
       "      <td>667</td>\n",
       "      <td>0</td>\n",
       "      <td>Ativa</td>\n",
       "      <td>7220</td>\n",
       "      <td>0.379310</td>\n",
       "      <td>5</td>\n",
       "      <td>S/C</td>\n",
       "      <td>1.7053</td>\n",
       "      <td>2.2072</td>\n",
       "      <td>1.8765</td>\n",
       "      <td>1</td>\n",
       "      <td>0.868035</td>\n",
       "      <td>341</td>\n",
       "      <td>0.272727</td>\n",
       "      <td>8</td>\n",
       "      <td>-1.043759e+06</td>\n",
       "      <td>0.000000</td>\n",
       "    </tr>\n",
       "  </tbody>\n",
       "</table>\n",
       "<p>2177 rows × 17 columns</p>\n",
       "</div>"
      ],
      "text/plain": [
       "      Codigo da IES  Natureza Situacao  DIAS         % CI N CI V   IGC_N  \\\n",
       "0              5124         1    Ativa  3941  0.411765    3    3  1.9541   \n",
       "1              1313         0    Ativa    97  0.625000    4    3  2.3891   \n",
       "2             13856         1    Ativa  2772  0.705882    3    3   2.102   \n",
       "3              2380         1    Ativa   616  0.645161    3    3  2.7588   \n",
       "4             21685         1    Ativa   161  0.400000  S/C  S/C     S/D   \n",
       "...             ...       ...      ...   ...       ...  ...  ...     ...   \n",
       "2172          21215         0    Ativa   516  1.000000    4  S/C     S/D   \n",
       "2173           1465         1    Ativa  7042  0.370370    3    3  2.1593   \n",
       "2174            638         0    Ativa   885  0.600000    4  S/C  2.5174   \n",
       "2175          13897         1    Ativa  2506  0.400000    3    3  2.3561   \n",
       "2176            667         0    Ativa  7220  0.379310    5  S/C  1.7053   \n",
       "\n",
       "       IGC_M   IGC_V  EAD_17  variacao mat  mat_T 2017    % FIES  CURSOS  \\\n",
       "0     2.0332  2.0332       1      1.207921         101  0.059406       2   \n",
       "1     2.5598  2.5598       1     -0.048218        2385  0.017191      10   \n",
       "2      2.102   2.102       0      0.000000           0  0.000000       0   \n",
       "3     2.7945  2.7945       1      0.089311        2844  0.441280       6   \n",
       "4        S/D     S/D       0      0.000000           0  0.000000      -3   \n",
       "...      ...     ...     ...           ...         ...       ...     ...   \n",
       "2172     S/D     S/D       0      0.000000           0  0.000000       0   \n",
       "2173  2.4112  2.4112       1      0.524721        1254  0.614035      13   \n",
       "2174  2.6176  2.5861       1     -0.038257        1882  0.111052       1   \n",
       "2175  2.2901       0       1     -0.047619         357  0.000000       2   \n",
       "2176  2.2072  1.8765       1      0.868035         341  0.272727       8   \n",
       "\n",
       "        saldo 2017  Variacao 17-16  \n",
       "0     2.404375e+08       77.190924  \n",
       "1     2.404375e+08        9.523631  \n",
       "2     0.000000e+00        0.000000  \n",
       "3     8.838117e+08        0.060665  \n",
       "4     0.000000e+00        0.000000  \n",
       "...            ...             ...  \n",
       "2172  0.000000e+00        0.000000  \n",
       "2173  2.404375e+08        6.803505  \n",
       "2174  9.297316e+06        0.662687  \n",
       "2175  1.210978e+06       -0.000753  \n",
       "2176 -1.043759e+06        0.000000  \n",
       "\n",
       "[2177 rows x 17 columns]"
      ]
     },
     "execution_count": 12,
     "metadata": {},
     "output_type": "execute_result"
    }
   ],
   "source": [
    "df = pd.DataFrame()\n",
    "\n",
    "df = pd.read_csv('../../data/trabalho2_dados10.csv')\n",
    "\n",
    "\n",
    "df"
   ]
  },
  {
   "cell_type": "markdown",
   "metadata": {},
   "source": [
    "----------------------------------------"
   ]
  },
  {
   "cell_type": "markdown",
   "metadata": {},
   "source": [
    "## Análises Pré-processamento:"
   ]
  },
  {
   "cell_type": "markdown",
   "metadata": {},
   "source": [
    "### Descrição dos Dados:"
   ]
  },
  {
   "cell_type": "markdown",
   "metadata": {},
   "source": [
    "    - COLUNA             DESCRIÇÃO                            TYPE\n",
    "    - ----------------------------------------------------------------------\n",
    "    - Codigo da IES:   |  Id da instituição                  |  (int64);\n",
    "    - Natureza:        |                                     |  (int64);\n",
    "    - Situação:        |  Situação de funcionamento da IES   |  (object);\n",
    "    - DIAS:            |                                     |  (int64);\n",
    "    - %:               |                                     |  (float64);\n",
    "    - CI N:            |                                     |  (object);\n",
    "    - CI V:            |                                     |  (object);\n",
    "    - IGC_N:           |                                     |  (object);\n",
    "    - IGC_V:           |                                     |  (object);\n",
    "    - EAD_17:          |                                     |  (int64);\n",
    "    - variacao_mat:    |                                     |  (float64);\n",
    "    - mat_T 2017:      |                                     |  (int64);\n",
    "    - % FIES:          |                                     |  (float64);\n",
    "    - CURSOS:          |                                     |  (int64);\n",
    "    - saldo 2017:      |                                     |  (float64);\n",
    "    - Variacao 17-16:  |                                     |  (float64);"
   ]
  },
  {
   "cell_type": "markdown",
   "metadata": {},
   "source": [
    "---------------------------------------------"
   ]
  },
  {
   "cell_type": "code",
   "execution_count": 5,
   "metadata": {},
   "outputs": [],
   "source": [
    "### Quantidade de registros com valor ausente"
   ]
  },
  {
   "cell_type": "code",
   "execution_count": 6,
   "metadata": {},
   "outputs": [
    {
     "name": "stdout",
     "output_type": "stream",
     "text": [
      "A porcentagem de linhas com pelo menos uma coluna contendo 'S/D' é: 31.24%\n"
     ]
    }
   ],
   "source": [
    "# Verifique se qualquer coluna contém \"S/D\" em cada linha\n",
    "contains_sd = df.apply(lambda row: row.str.contains('S/D').any(), axis=1)\n",
    "\n",
    "# Calcule a porcentagem de linhas com pelo menos uma coluna contendo \"S/D\"\n",
    "percentage_with_sd = (contains_sd.sum() / len(df)) * 100\n",
    "\n",
    "print(f\"A porcentagem de linhas com pelo menos uma coluna contendo 'S/D' é: {percentage_with_sd:.2f}%\")"
   ]
  },
  {
   "cell_type": "code",
   "execution_count": 7,
   "metadata": {},
   "outputs": [
    {
     "name": "stdout",
     "output_type": "stream",
     "text": [
      "A porcentagem de linhas com mais de uma ocorrência de 'S/D' é: 31.24%\n"
     ]
    }
   ],
   "source": [
    "# Conte o número de ocorrências de 'S/D' em cada linha\n",
    "count_sd = df.apply(lambda row: row.str.count('S/D').sum(), axis=1)\n",
    "\n",
    "# Calcule a porcentagem de linhas com mais de uma ocorrência de 'S/D'\n",
    "percentage_with_multiple_sd = (len(count_sd[count_sd > 1]) / len(df)) * 100\n",
    "\n",
    "print(f\"A porcentagem de linhas com mais de uma ocorrência de 'S/D' é: {percentage_with_multiple_sd:.2f}%\")"
   ]
  },
  {
   "cell_type": "code",
   "execution_count": 11,
   "metadata": {},
   "outputs": [
    {
     "name": "stdout",
     "output_type": "stream",
     "text": [
      "A porcentagem de linhas onde todas as colunas numéricas (exceto 'Codigo da IES' e 'DIAS') são iguais a zero é: 4.36%\n"
     ]
    }
   ],
   "source": [
    "# Remova as colunas \"Codigo da IES\" e \"DIAS\"\n",
    "df = df.drop(columns=[\"Codigo da IES\", \"DIAS\"])\n",
    "\n",
    "# Selecione todas as colunas numéricas restantes\n",
    "numeric_columns = df.select_dtypes(include=['number'])\n",
    "\n",
    "# Verifique se todos os valores nas colunas numéricas são iguais a zero\n",
    "all_zeros = (numeric_columns == 0).all(axis=1)\n",
    "\n",
    "# Calcule a porcentagem de linhas onde todas as colunas numéricas (exceto \"Codigo da IES\" e \"DIAS\") são iguais a zero\n",
    "percentage_all_zeros = (all_zeros.sum() / len(df)) * 100\n",
    "\n",
    "print(f\"A porcentagem de linhas onde todas as colunas numéricas (exceto 'Codigo da IES' e 'DIAS') são iguais a zero é: {percentage_all_zeros:.2f}%\")"
   ]
  },
  {
   "cell_type": "code",
   "execution_count": 14,
   "metadata": {},
   "outputs": [
    {
     "name": "stdout",
     "output_type": "stream",
     "text": [
      "A média da porcentagem de colunas em que 'S/D' ocorre nas linhas (ignorando 'Codigo da IES', 'DIAS', 'Natureza' e 'Situacao') é: 24.56%\n"
     ]
    }
   ],
   "source": [
    "# Crie um DataFrame temporário excluindo as colunas \"Codigo da IES\", \"DIAS\", \"Natureza\" e \"Situacao\"\n",
    "df_temp = df.drop(columns=[\"Codigo da IES\", \"DIAS\", \"Natureza\", \"Situacao\"])\n",
    "\n",
    "# Verifique se \"S/D\" ocorre em cada linha (retorna True/False)\n",
    "contains_sd = df_temp.apply(lambda row: row.str.contains('S/D').any(), axis=1)\n",
    "\n",
    "# Calcule a porcentagem de colunas em que \"S/D\" ocorre para cada linha\n",
    "percentage_sd_per_row = (df_temp[contains_sd].apply(lambda row: (row == 'S/D').sum(), axis=1) / df_temp[contains_sd].shape[1]) * 100\n",
    "\n",
    "# Calcule a média das porcentagens\n",
    "average_percentage_sd = percentage_sd_per_row.mean()\n",
    "\n",
    "print(f\"A média da porcentagem de colunas em que 'S/D' ocorre nas linhas (ignorando 'Codigo da IES', 'DIAS', 'Natureza' e 'Situacao') é: {average_percentage_sd:.2f}%\")"
   ]
  },
  {
   "cell_type": "markdown",
   "metadata": {},
   "source": [
    "### Separando Tipos de Atributos:"
   ]
  },
  {
   "cell_type": "code",
   "execution_count": null,
   "metadata": {},
   "outputs": [],
   "source": []
  },
  {
   "cell_type": "code",
   "execution_count": 12,
   "metadata": {},
   "outputs": [],
   "source": [
    "df_disc = df[['Codigo da IES', 'Natureza', 'DIAS', 'EAD_17', 'mat_T 2017', 'CURSOS']]\n",
    "df_cont = df[['%', 'variacao mat', '% FIES', 'saldo 2017', 'Variacao 17-16']]\n",
    "df_cate = df[['Situacao', 'CI N', 'CI V', 'IGC_N', 'IGC_V']]"
   ]
  },
  {
   "cell_type": "markdown",
   "metadata": {},
   "source": [
    "-------------------------------------"
   ]
  },
  {
   "cell_type": "markdown",
   "metadata": {},
   "source": [
    "### Analisando Dados Discretos:"
   ]
  },
  {
   "cell_type": "code",
   "execution_count": 23,
   "metadata": {},
   "outputs": [
    {
     "data": {
      "text/html": [
       "<div>\n",
       "<style scoped>\n",
       "    .dataframe tbody tr th:only-of-type {\n",
       "        vertical-align: middle;\n",
       "    }\n",
       "\n",
       "    .dataframe tbody tr th {\n",
       "        vertical-align: top;\n",
       "    }\n",
       "\n",
       "    .dataframe thead th {\n",
       "        text-align: right;\n",
       "    }\n",
       "</style>\n",
       "<table border=\"1\" class=\"dataframe\">\n",
       "  <thead>\n",
       "    <tr style=\"text-align: right;\">\n",
       "      <th></th>\n",
       "      <th>Codigo da IES</th>\n",
       "      <th>Natureza</th>\n",
       "      <th>DIAS</th>\n",
       "      <th>EAD_17</th>\n",
       "      <th>mat_T 2017</th>\n",
       "      <th>CURSOS</th>\n",
       "    </tr>\n",
       "  </thead>\n",
       "  <tbody>\n",
       "    <tr>\n",
       "      <th>count</th>\n",
       "      <td>28301.000000</td>\n",
       "      <td>28301.000000</td>\n",
       "      <td>28301.000000</td>\n",
       "      <td>28301.000000</td>\n",
       "      <td>28301.000000</td>\n",
       "      <td>28301.000000</td>\n",
       "    </tr>\n",
       "    <tr>\n",
       "      <th>mean</th>\n",
       "      <td>7238.273842</td>\n",
       "      <td>0.593972</td>\n",
       "      <td>3082.909155</td>\n",
       "      <td>0.676407</td>\n",
       "      <td>1920.297198</td>\n",
       "      <td>11.305466</td>\n",
       "    </tr>\n",
       "    <tr>\n",
       "      <th>std</th>\n",
       "      <td>7580.164371</td>\n",
       "      <td>0.491099</td>\n",
       "      <td>3432.696482</td>\n",
       "      <td>0.467855</td>\n",
       "      <td>12354.926664</td>\n",
       "      <td>74.219022</td>\n",
       "    </tr>\n",
       "    <tr>\n",
       "      <th>min</th>\n",
       "      <td>10.000000</td>\n",
       "      <td>0.000000</td>\n",
       "      <td>20.000000</td>\n",
       "      <td>0.000000</td>\n",
       "      <td>0.000000</td>\n",
       "      <td>-7.000000</td>\n",
       "    </tr>\n",
       "    <tr>\n",
       "      <th>25%</th>\n",
       "      <td>1599.000000</td>\n",
       "      <td>0.000000</td>\n",
       "      <td>755.000000</td>\n",
       "      <td>0.000000</td>\n",
       "      <td>0.000000</td>\n",
       "      <td>0.000000</td>\n",
       "    </tr>\n",
       "    <tr>\n",
       "      <th>50%</th>\n",
       "      <td>3227.000000</td>\n",
       "      <td>1.000000</td>\n",
       "      <td>1907.000000</td>\n",
       "      <td>1.000000</td>\n",
       "      <td>187.000000</td>\n",
       "      <td>2.000000</td>\n",
       "    </tr>\n",
       "    <tr>\n",
       "      <th>75%</th>\n",
       "      <td>14248.000000</td>\n",
       "      <td>1.000000</td>\n",
       "      <td>5197.000000</td>\n",
       "      <td>1.000000</td>\n",
       "      <td>1045.000000</td>\n",
       "      <td>8.000000</td>\n",
       "    </tr>\n",
       "    <tr>\n",
       "      <th>max</th>\n",
       "      <td>23352.000000</td>\n",
       "      <td>1.000000</td>\n",
       "      <td>29245.000000</td>\n",
       "      <td>1.000000</td>\n",
       "      <td>380605.000000</td>\n",
       "      <td>1872.000000</td>\n",
       "    </tr>\n",
       "  </tbody>\n",
       "</table>\n",
       "</div>"
      ],
      "text/plain": [
       "       Codigo da IES      Natureza          DIAS        EAD_17     mat_T 2017  \\\n",
       "count   28301.000000  28301.000000  28301.000000  28301.000000   28301.000000   \n",
       "mean     7238.273842      0.593972   3082.909155      0.676407    1920.297198   \n",
       "std      7580.164371      0.491099   3432.696482      0.467855   12354.926664   \n",
       "min        10.000000      0.000000     20.000000      0.000000       0.000000   \n",
       "25%      1599.000000      0.000000    755.000000      0.000000       0.000000   \n",
       "50%      3227.000000      1.000000   1907.000000      1.000000     187.000000   \n",
       "75%     14248.000000      1.000000   5197.000000      1.000000    1045.000000   \n",
       "max     23352.000000      1.000000  29245.000000      1.000000  380605.000000   \n",
       "\n",
       "             CURSOS  \n",
       "count  28301.000000  \n",
       "mean      11.305466  \n",
       "std       74.219022  \n",
       "min       -7.000000  \n",
       "25%        0.000000  \n",
       "50%        2.000000  \n",
       "75%        8.000000  \n",
       "max     1872.000000  "
      ]
     },
     "execution_count": 23,
     "metadata": {},
     "output_type": "execute_result"
    }
   ],
   "source": [
    "df_disc.describe()"
   ]
  },
  {
   "cell_type": "code",
   "execution_count": 16,
   "metadata": {},
   "outputs": [
    {
     "name": "stderr",
     "output_type": "stream",
     "text": [
      "c:\\Users\\Daniel\\AppData\\Local\\Programs\\Python\\Python311\\Lib\\site-packages\\seaborn\\_oldcore.py:1498: FutureWarning: is_categorical_dtype is deprecated and will be removed in a future version. Use isinstance(dtype, CategoricalDtype) instead\n",
      "  if pd.api.types.is_categorical_dtype(vector):\n",
      "c:\\Users\\Daniel\\AppData\\Local\\Programs\\Python\\Python311\\Lib\\site-packages\\seaborn\\_oldcore.py:1498: FutureWarning: is_categorical_dtype is deprecated and will be removed in a future version. Use isinstance(dtype, CategoricalDtype) instead\n",
      "  if pd.api.types.is_categorical_dtype(vector):\n",
      "c:\\Users\\Daniel\\AppData\\Local\\Programs\\Python\\Python311\\Lib\\site-packages\\seaborn\\_oldcore.py:1498: FutureWarning: is_categorical_dtype is deprecated and will be removed in a future version. Use isinstance(dtype, CategoricalDtype) instead\n",
      "  if pd.api.types.is_categorical_dtype(vector):\n",
      "c:\\Users\\Daniel\\AppData\\Local\\Programs\\Python\\Python311\\Lib\\site-packages\\seaborn\\_oldcore.py:1498: FutureWarning: is_categorical_dtype is deprecated and will be removed in a future version. Use isinstance(dtype, CategoricalDtype) instead\n",
      "  if pd.api.types.is_categorical_dtype(vector):\n",
      "c:\\Users\\Daniel\\AppData\\Local\\Programs\\Python\\Python311\\Lib\\site-packages\\seaborn\\_oldcore.py:1498: FutureWarning: is_categorical_dtype is deprecated and will be removed in a future version. Use isinstance(dtype, CategoricalDtype) instead\n",
      "  if pd.api.types.is_categorical_dtype(vector):\n",
      "c:\\Users\\Daniel\\AppData\\Local\\Programs\\Python\\Python311\\Lib\\site-packages\\seaborn\\_oldcore.py:1498: FutureWarning: is_categorical_dtype is deprecated and will be removed in a future version. Use isinstance(dtype, CategoricalDtype) instead\n",
      "  if pd.api.types.is_categorical_dtype(vector):\n"
     ]
    },
    {
     "data": {
      "text/plain": [
       "<Axes: >"
      ]
     },
     "execution_count": 16,
     "metadata": {},
     "output_type": "execute_result"
    },
    {
     "data": {
      "image/png": "[encoded data removed]",
      "text/plain": [
       "<Figure size 640x480 with 1 Axes>"
      ]
     },
     "metadata": {},
     "output_type": "display_data"
    }
   ],
   "source": [
    "sns.set_style(\"whitegrid\")\n",
    "sns.boxplot(df_disc)"
   ]
  },
  {
   "cell_type": "markdown",
   "metadata": {},
   "source": [
    "-------------------------------------"
   ]
  },
  {
   "cell_type": "markdown",
   "metadata": {},
   "source": [
    "### Analisando Dados Contínuos:"
   ]
  },
  {
   "cell_type": "code",
   "execution_count": 22,
   "metadata": {},
   "outputs": [
    {
     "data": {
      "text/html": [
       "<div>\n",
       "<style scoped>\n",
       "    .dataframe tbody tr th:only-of-type {\n",
       "        vertical-align: middle;\n",
       "    }\n",
       "\n",
       "    .dataframe tbody tr th {\n",
       "        vertical-align: top;\n",
       "    }\n",
       "\n",
       "    .dataframe thead th {\n",
       "        text-align: right;\n",
       "    }\n",
       "</style>\n",
       "<table border=\"1\" class=\"dataframe\">\n",
       "  <thead>\n",
       "    <tr style=\"text-align: right;\">\n",
       "      <th></th>\n",
       "      <th>%</th>\n",
       "      <th>variacao mat</th>\n",
       "      <th>% FIES</th>\n",
       "      <th>saldo 2017</th>\n",
       "      <th>Variacao 17-16</th>\n",
       "    </tr>\n",
       "  </thead>\n",
       "  <tbody>\n",
       "    <tr>\n",
       "      <th>count</th>\n",
       "      <td>28301.000000</td>\n",
       "      <td>28301.000000</td>\n",
       "      <td>28301.000000</td>\n",
       "      <td>2.830100e+04</td>\n",
       "      <td>2.830100e+04</td>\n",
       "    </tr>\n",
       "    <tr>\n",
       "      <th>mean</th>\n",
       "      <td>0.494897</td>\n",
       "      <td>0.204656</td>\n",
       "      <td>0.113544</td>\n",
       "      <td>5.421697e+07</td>\n",
       "      <td>1.843379e+05</td>\n",
       "    </tr>\n",
       "    <tr>\n",
       "      <th>std</th>\n",
       "      <td>0.264148</td>\n",
       "      <td>5.903255</td>\n",
       "      <td>0.167887</td>\n",
       "      <td>5.183075e+08</td>\n",
       "      <td>1.047026e+07</td>\n",
       "    </tr>\n",
       "    <tr>\n",
       "      <th>min</th>\n",
       "      <td>0.000000</td>\n",
       "      <td>-0.957576</td>\n",
       "      <td>0.000000</td>\n",
       "      <td>-1.964375e+10</td>\n",
       "      <td>-1.739310e+07</td>\n",
       "    </tr>\n",
       "    <tr>\n",
       "      <th>25%</th>\n",
       "      <td>0.312500</td>\n",
       "      <td>-0.033520</td>\n",
       "      <td>0.000000</td>\n",
       "      <td>0.000000e+00</td>\n",
       "      <td>-1.489587e-01</td>\n",
       "    </tr>\n",
       "    <tr>\n",
       "      <th>50%</th>\n",
       "      <td>0.513514</td>\n",
       "      <td>0.000000</td>\n",
       "      <td>0.000000</td>\n",
       "      <td>1.381794e+05</td>\n",
       "      <td>0.000000e+00</td>\n",
       "    </tr>\n",
       "    <tr>\n",
       "      <th>75%</th>\n",
       "      <td>0.684615</td>\n",
       "      <td>0.051624</td>\n",
       "      <td>0.193277</td>\n",
       "      <td>6.481168e+06</td>\n",
       "      <td>1.683907e-01</td>\n",
       "    </tr>\n",
       "    <tr>\n",
       "      <th>max</th>\n",
       "      <td>1.000000</td>\n",
       "      <td>316.500000</td>\n",
       "      <td>0.991803</td>\n",
       "      <td>3.996830e+09</td>\n",
       "      <td>5.565371e+08</td>\n",
       "    </tr>\n",
       "  </tbody>\n",
       "</table>\n",
       "</div>"
      ],
      "text/plain": [
       "                  %  variacao mat        % FIES    saldo 2017  Variacao 17-16\n",
       "count  28301.000000  28301.000000  28301.000000  2.830100e+04    2.830100e+04\n",
       "mean       0.494897      0.204656      0.113544  5.421697e+07    1.843379e+05\n",
       "std        0.264148      5.903255      0.167887  5.183075e+08    1.047026e+07\n",
       "min        0.000000     -0.957576      0.000000 -1.964375e+10   -1.739310e+07\n",
       "25%        0.312500     -0.033520      0.000000  0.000000e+00   -1.489587e-01\n",
       "50%        0.513514      0.000000      0.000000  1.381794e+05    0.000000e+00\n",
       "75%        0.684615      0.051624      0.193277  6.481168e+06    1.683907e-01\n",
       "max        1.000000    316.500000      0.991803  3.996830e+09    5.565371e+08"
      ]
     },
     "execution_count": 22,
     "metadata": {},
     "output_type": "execute_result"
    }
   ],
   "source": [
    "df_cont.describe()"
   ]
  },
  {
   "cell_type": "code",
   "execution_count": 18,
   "metadata": {},
   "outputs": [
    {
     "name": "stderr",
     "output_type": "stream",
     "text": [
      "c:\\Users\\Daniel\\AppData\\Local\\Programs\\Python\\Python311\\Lib\\site-packages\\seaborn\\_oldcore.py:1498: FutureWarning: is_categorical_dtype is deprecated and will be removed in a future version. Use isinstance(dtype, CategoricalDtype) instead\n",
      "  if pd.api.types.is_categorical_dtype(vector):\n",
      "c:\\Users\\Daniel\\AppData\\Local\\Programs\\Python\\Python311\\Lib\\site-packages\\seaborn\\_oldcore.py:1498: FutureWarning: is_categorical_dtype is deprecated and will be removed in a future version. Use isinstance(dtype, CategoricalDtype) instead\n",
      "  if pd.api.types.is_categorical_dtype(vector):\n",
      "c:\\Users\\Daniel\\AppData\\Local\\Programs\\Python\\Python311\\Lib\\site-packages\\seaborn\\_oldcore.py:1498: FutureWarning: is_categorical_dtype is deprecated and will be removed in a future version. Use isinstance(dtype, CategoricalDtype) instead\n",
      "  if pd.api.types.is_categorical_dtype(vector):\n",
      "c:\\Users\\Daniel\\AppData\\Local\\Programs\\Python\\Python311\\Lib\\site-packages\\seaborn\\_oldcore.py:1498: FutureWarning: is_categorical_dtype is deprecated and will be removed in a future version. Use isinstance(dtype, CategoricalDtype) instead\n",
      "  if pd.api.types.is_categorical_dtype(vector):\n",
      "c:\\Users\\Daniel\\AppData\\Local\\Programs\\Python\\Python311\\Lib\\site-packages\\seaborn\\_oldcore.py:1498: FutureWarning: is_categorical_dtype is deprecated and will be removed in a future version. Use isinstance(dtype, CategoricalDtype) instead\n",
      "  if pd.api.types.is_categorical_dtype(vector):\n"
     ]
    },
    {
     "data": {
      "text/plain": [
       "<Axes: >"
      ]
     },
     "execution_count": 18,
     "metadata": {},
     "output_type": "execute_result"
    },
    {
     "data": {
      "image/png": "[encoded data removed]",
      "text/plain": [
       "<Figure size 640x480 with 1 Axes>"
      ]
     },
     "metadata": {},
     "output_type": "display_data"
    }
   ],
   "source": [
    "sns.set_style(\"whitegrid\")\n",
    "sns.boxplot(df_cont)"
   ]
  },
  {
   "cell_type": "markdown",
   "metadata": {},
   "source": [
    "-----------------------------"
   ]
  },
  {
   "cell_type": "markdown",
   "metadata": {},
   "source": [
    "### Análisando Dados Categóricos:"
   ]
  },
  {
   "cell_type": "code",
   "execution_count": 21,
   "metadata": {},
   "outputs": [
    {
     "data": {
      "text/html": [
       "<div>\n",
       "<style scoped>\n",
       "    .dataframe tbody tr th:only-of-type {\n",
       "        vertical-align: middle;\n",
       "    }\n",
       "\n",
       "    .dataframe tbody tr th {\n",
       "        vertical-align: top;\n",
       "    }\n",
       "\n",
       "    .dataframe thead th {\n",
       "        text-align: right;\n",
       "    }\n",
       "</style>\n",
       "<table border=\"1\" class=\"dataframe\">\n",
       "  <thead>\n",
       "    <tr style=\"text-align: right;\">\n",
       "      <th></th>\n",
       "      <th>Situacao</th>\n",
       "      <th>CI N</th>\n",
       "      <th>CI V</th>\n",
       "      <th>IGC_N</th>\n",
       "      <th>IGC_V</th>\n",
       "    </tr>\n",
       "  </thead>\n",
       "  <tbody>\n",
       "    <tr>\n",
       "      <th>count</th>\n",
       "      <td>28301</td>\n",
       "      <td>28301</td>\n",
       "      <td>28301</td>\n",
       "      <td>28301</td>\n",
       "      <td>25557</td>\n",
       "    </tr>\n",
       "    <tr>\n",
       "      <th>unique</th>\n",
       "      <td>2</td>\n",
       "      <td>8</td>\n",
       "      <td>8</td>\n",
       "      <td>1896</td>\n",
       "      <td>1694</td>\n",
       "    </tr>\n",
       "    <tr>\n",
       "      <th>top</th>\n",
       "      <td>Ativa</td>\n",
       "      <td>3</td>\n",
       "      <td>S/C</td>\n",
       "      <td>S/D</td>\n",
       "      <td>S/D</td>\n",
       "    </tr>\n",
       "    <tr>\n",
       "      <th>freq</th>\n",
       "      <td>25027</td>\n",
       "      <td>12464</td>\n",
       "      <td>14203</td>\n",
       "      <td>8499</td>\n",
       "      <td>7648</td>\n",
       "    </tr>\n",
       "  </tbody>\n",
       "</table>\n",
       "</div>"
      ],
      "text/plain": [
       "       Situacao   CI N   CI V  IGC_N  IGC_V\n",
       "count     28301  28301  28301  28301  25557\n",
       "unique        2      8      8   1896   1694\n",
       "top       Ativa      3    S/C    S/D    S/D\n",
       "freq      25027  12464  14203   8499   7648"
      ]
     },
     "execution_count": 21,
     "metadata": {},
     "output_type": "execute_result"
    }
   ],
   "source": [
    "df_cate.describe()"
   ]
  },
  {
   "cell_type": "code",
   "execution_count": 26,
   "metadata": {},
   "outputs": [
    {
     "name": "stdout",
     "output_type": "stream",
     "text": [
      "['Ativa' 'Extinta']\n",
      "['3' 'S/D' 'S/C' '5' '4' '2' '0' '1']\n",
      "['3' 'S/D' 'S/C' '5' '4' '2' '0' '1']\n",
      "['2.4867' 'S/D' '0' ... '2.3174' '2.1829' '2.0785']\n",
      "[nan 'S/D' '1.81' ... '1.7914' '1.8238' '2.3964']\n"
     ]
    }
   ],
   "source": [
    "print(pd.unique(df_cate['Situacao']))\n",
    "print(pd.unique(df_cate['CI N']))\n",
    "print(pd.unique(df_cate['CI V']))\n",
    "print(pd.unique(df_cate['IGC_N']))\n",
    "print(pd.unique(df_cate['IGC_V']))"
   ]
  },
  {
   "cell_type": "code",
   "execution_count": 37,
   "metadata": {},
   "outputs": [
    {
     "name": "stderr",
     "output_type": "stream",
     "text": [
      "C:\\Users\\Daniel\\AppData\\Local\\Temp\\ipykernel_25948\\4235192656.py:1: FutureWarning: pandas.value_counts is deprecated and will be removed in a future version. Use pd.Series(obj).value_counts() instead.\n",
      "  pd.value_counts(df_cate['CI N'])\n"
     ]
    },
    {
     "data": {
      "text/plain": [
       "CI N\n",
       "3      12464\n",
       "4       7819\n",
       "S/C     4705\n",
       "5       1418\n",
       "S/D     1263\n",
       "2        481\n",
       "1        114\n",
       "0         37\n",
       "Name: count, dtype: int64"
      ]
     },
     "execution_count": 37,
     "metadata": {},
     "output_type": "execute_result"
    }
   ],
   "source": [
    "pd.value_counts(df_cate['CI N'])"
   ]
  },
  {
   "cell_type": "code",
   "execution_count": 28,
   "metadata": {},
   "outputs": [
    {
     "name": "stderr",
     "output_type": "stream",
     "text": [
      "C:\\Users\\Daniel\\AppData\\Local\\Temp\\ipykernel_25948\\3274268377.py:1: FutureWarning: pandas.value_counts is deprecated and will be removed in a future version. Use pd.Series(obj).value_counts() instead.\n",
      "  pd.value_counts(df_cate['CI V'])\n"
     ]
    },
    {
     "data": {
      "text/plain": [
       "CI V\n",
       "S/C    14203\n",
       "3       7448\n",
       "4       3705\n",
       "S/D     1263\n",
       "5        808\n",
       "2        763\n",
       "0         83\n",
       "1         28\n",
       "Name: count, dtype: int64"
      ]
     },
     "execution_count": 28,
     "metadata": {},
     "output_type": "execute_result"
    }
   ],
   "source": [
    "pd.value_counts(df_cate['CI V'])"
   ]
  },
  {
   "cell_type": "code",
   "execution_count": 29,
   "metadata": {},
   "outputs": [
    {
     "name": "stderr",
     "output_type": "stream",
     "text": [
      "C:\\Users\\Daniel\\AppData\\Local\\Temp\\ipykernel_25948\\2348666142.py:1: FutureWarning: pandas.value_counts is deprecated and will be removed in a future version. Use pd.Series(obj).value_counts() instead.\n",
      "  pd.value_counts(df_cate['IGC_N'])\n"
     ]
    },
    {
     "data": {
      "text/plain": [
       "IGC_N\n",
       "S/D                   8499\n",
       "0                     1607\n",
       "2.23                    33\n",
       "1.8001                  31\n",
       "2.9                     28\n",
       "                      ... \n",
       "3.3968                   4\n",
       "1.7226                   4\n",
       "2.2399                   4\n",
       "2.2114226651466433       4\n",
       "2.5639                   3\n",
       "Name: count, Length: 1896, dtype: int64"
      ]
     },
     "execution_count": 29,
     "metadata": {},
     "output_type": "execute_result"
    }
   ],
   "source": [
    "pd.value_counts(df_cate['IGC_N'])"
   ]
  },
  {
   "cell_type": "code",
   "execution_count": 38,
   "metadata": {},
   "outputs": [
    {
     "name": "stderr",
     "output_type": "stream",
     "text": [
      "C:\\Users\\Daniel\\AppData\\Local\\Temp\\ipykernel_25948\\2439467015.py:1: FutureWarning: pandas.value_counts is deprecated and will be removed in a future version. Use pd.Series(obj).value_counts() instead.\n",
      "  pd.value_counts(df_cate['IGC_V'])\n"
     ]
    },
    {
     "data": {
      "text/plain": [
       "IGC_V\n",
       "S/D                   7648\n",
       "0                     1499\n",
       "1.86                    35\n",
       "2.2966                  30\n",
       "2.62                    30\n",
       "                      ... \n",
       "2.9808                   4\n",
       "2.5383                   4\n",
       "1.2488949154096338       4\n",
       "1.4781                   4\n",
       "2.5276                   3\n",
       "Name: count, Length: 1694, dtype: int64"
      ]
     },
     "execution_count": 38,
     "metadata": {},
     "output_type": "execute_result"
    }
   ],
   "source": [
    "pd.value_counts(df_cate['IGC_V'])"
   ]
  },
  {
   "cell_type": "markdown",
   "metadata": {},
   "source": [
    "-------------------------------------------"
   ]
  }
 ],
 "metadata": {
  "kernelspec": {
   "display_name": "Python 3 (ipykernel)",
   "language": "python",
   "name": "python3"
  },
  "language_info": {
   "codemirror_mode": {
    "name": "ipython",
    "version": 3
   },
   "file_extension": ".py",
   "mimetype": "text/x-python",
   "name": "python",
   "nbconvert_exporter": "python",
   "pygments_lexer": "ipython3",
   "version": "3.11.4"
  }
 },
 "nbformat": 4,
 "nbformat_minor": 2
}
