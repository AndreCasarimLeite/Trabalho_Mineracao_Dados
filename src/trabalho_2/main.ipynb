{
 "cells": [
  {
   "cell_type": "markdown",
   "metadata": {},
   "source": [
    "# Pré-Processamento da Base de Dados - Instituições de Ensino Superior (IES):"
   ]
  },
  {
   "cell_type": "markdown",
   "metadata": {},
   "source": [
    "## Importação das Bibliotecas:"
   ]
  },
  {
   "cell_type": "code",
   "execution_count": 1,
   "metadata": {},
   "outputs": [],
   "source": [
    "import pandas as pd\n",
    "import numpy as np\n",
    "import seaborn as sns\n",
    "from pandas import factorize\n",
    "import re"
   ]
  },
  {
   "cell_type": "markdown",
   "metadata": {},
   "source": [
    "--------------------------------------------"
   ]
  },
  {
   "cell_type": "markdown",
   "metadata": {},
   "source": [
    "## Obtenção dos Datasets:"
   ]
  },
  {
   "cell_type": "code",
   "execution_count": 7,
   "metadata": {},
   "outputs": [
    {
     "data": {
      "text/html": [
       "<div>\n",
       "<style scoped>\n",
       "    .dataframe tbody tr th:only-of-type {\n",
       "        vertical-align: middle;\n",
       "    }\n",
       "\n",
       "    .dataframe tbody tr th {\n",
       "        vertical-align: top;\n",
       "    }\n",
       "\n",
       "    .dataframe thead th {\n",
       "        text-align: right;\n",
       "    }\n",
       "</style>\n",
       "<table border=\"1\" class=\"dataframe\">\n",
       "  <thead>\n",
       "    <tr style=\"text-align: right;\">\n",
       "      <th></th>\n",
       "      <th>Codigo da IES</th>\n",
       "      <th>Natureza</th>\n",
       "      <th>Situacao</th>\n",
       "      <th>DIAS</th>\n",
       "      <th>%</th>\n",
       "      <th>CI N</th>\n",
       "      <th>CI V</th>\n",
       "      <th>IGC_N</th>\n",
       "      <th>IGC_M</th>\n",
       "      <th>IGC_V</th>\n",
       "      <th>EAD_17</th>\n",
       "      <th>variacao mat</th>\n",
       "      <th>mat_T 2017</th>\n",
       "      <th>% FIES</th>\n",
       "      <th>CURSOS</th>\n",
       "      <th>saldo 2017</th>\n",
       "      <th>Variacao 17-16</th>\n",
       "    </tr>\n",
       "  </thead>\n",
       "  <tbody>\n",
       "    <tr>\n",
       "      <th>0</th>\n",
       "      <td>5124</td>\n",
       "      <td>1</td>\n",
       "      <td>Ativa</td>\n",
       "      <td>3941</td>\n",
       "      <td>0.411765</td>\n",
       "      <td>3</td>\n",
       "      <td>3</td>\n",
       "      <td>1.9541</td>\n",
       "      <td>2.0332</td>\n",
       "      <td>2.0332</td>\n",
       "      <td>1</td>\n",
       "      <td>1.207921</td>\n",
       "      <td>101</td>\n",
       "      <td>0.059406</td>\n",
       "      <td>2</td>\n",
       "      <td>2.404375e+08</td>\n",
       "      <td>77.190924</td>\n",
       "    </tr>\n",
       "    <tr>\n",
       "      <th>1</th>\n",
       "      <td>1313</td>\n",
       "      <td>0</td>\n",
       "      <td>Ativa</td>\n",
       "      <td>97</td>\n",
       "      <td>0.625000</td>\n",
       "      <td>4</td>\n",
       "      <td>3</td>\n",
       "      <td>2.3891</td>\n",
       "      <td>2.5598</td>\n",
       "      <td>2.5598</td>\n",
       "      <td>1</td>\n",
       "      <td>-0.048218</td>\n",
       "      <td>2385</td>\n",
       "      <td>0.017191</td>\n",
       "      <td>10</td>\n",
       "      <td>2.404375e+08</td>\n",
       "      <td>9.523631</td>\n",
       "    </tr>\n",
       "    <tr>\n",
       "      <th>2</th>\n",
       "      <td>13856</td>\n",
       "      <td>1</td>\n",
       "      <td>Ativa</td>\n",
       "      <td>2772</td>\n",
       "      <td>0.705882</td>\n",
       "      <td>3</td>\n",
       "      <td>3</td>\n",
       "      <td>2.102</td>\n",
       "      <td>2.102</td>\n",
       "      <td>2.102</td>\n",
       "      <td>0</td>\n",
       "      <td>0.000000</td>\n",
       "      <td>0</td>\n",
       "      <td>0.000000</td>\n",
       "      <td>0</td>\n",
       "      <td>0.000000e+00</td>\n",
       "      <td>0.000000</td>\n",
       "    </tr>\n",
       "    <tr>\n",
       "      <th>3</th>\n",
       "      <td>2380</td>\n",
       "      <td>1</td>\n",
       "      <td>Ativa</td>\n",
       "      <td>616</td>\n",
       "      <td>0.645161</td>\n",
       "      <td>3</td>\n",
       "      <td>3</td>\n",
       "      <td>2.7588</td>\n",
       "      <td>2.7945</td>\n",
       "      <td>2.7945</td>\n",
       "      <td>1</td>\n",
       "      <td>0.089311</td>\n",
       "      <td>2844</td>\n",
       "      <td>0.441280</td>\n",
       "      <td>6</td>\n",
       "      <td>8.838117e+08</td>\n",
       "      <td>0.060665</td>\n",
       "    </tr>\n",
       "    <tr>\n",
       "      <th>4</th>\n",
       "      <td>21685</td>\n",
       "      <td>1</td>\n",
       "      <td>Ativa</td>\n",
       "      <td>161</td>\n",
       "      <td>0.400000</td>\n",
       "      <td>S/C</td>\n",
       "      <td>S/C</td>\n",
       "      <td>S/D</td>\n",
       "      <td>S/D</td>\n",
       "      <td>S/D</td>\n",
       "      <td>0</td>\n",
       "      <td>0.000000</td>\n",
       "      <td>0</td>\n",
       "      <td>0.000000</td>\n",
       "      <td>-3</td>\n",
       "      <td>0.000000e+00</td>\n",
       "      <td>0.000000</td>\n",
       "    </tr>\n",
       "    <tr>\n",
       "      <th>...</th>\n",
       "      <td>...</td>\n",
       "      <td>...</td>\n",
       "      <td>...</td>\n",
       "      <td>...</td>\n",
       "      <td>...</td>\n",
       "      <td>...</td>\n",
       "      <td>...</td>\n",
       "      <td>...</td>\n",
       "      <td>...</td>\n",
       "      <td>...</td>\n",
       "      <td>...</td>\n",
       "      <td>...</td>\n",
       "      <td>...</td>\n",
       "      <td>...</td>\n",
       "      <td>...</td>\n",
       "      <td>...</td>\n",
       "      <td>...</td>\n",
       "    </tr>\n",
       "    <tr>\n",
       "      <th>2172</th>\n",
       "      <td>21215</td>\n",
       "      <td>0</td>\n",
       "      <td>Ativa</td>\n",
       "      <td>516</td>\n",
       "      <td>1.000000</td>\n",
       "      <td>4</td>\n",
       "      <td>S/C</td>\n",
       "      <td>S/D</td>\n",
       "      <td>S/D</td>\n",
       "      <td>S/D</td>\n",
       "      <td>0</td>\n",
       "      <td>0.000000</td>\n",
       "      <td>0</td>\n",
       "      <td>0.000000</td>\n",
       "      <td>0</td>\n",
       "      <td>0.000000e+00</td>\n",
       "      <td>0.000000</td>\n",
       "    </tr>\n",
       "    <tr>\n",
       "      <th>2173</th>\n",
       "      <td>1465</td>\n",
       "      <td>1</td>\n",
       "      <td>Ativa</td>\n",
       "      <td>7042</td>\n",
       "      <td>0.370370</td>\n",
       "      <td>3</td>\n",
       "      <td>3</td>\n",
       "      <td>2.1593</td>\n",
       "      <td>2.4112</td>\n",
       "      <td>2.4112</td>\n",
       "      <td>1</td>\n",
       "      <td>0.524721</td>\n",
       "      <td>1254</td>\n",
       "      <td>0.614035</td>\n",
       "      <td>13</td>\n",
       "      <td>2.404375e+08</td>\n",
       "      <td>6.803505</td>\n",
       "    </tr>\n",
       "    <tr>\n",
       "      <th>2174</th>\n",
       "      <td>638</td>\n",
       "      <td>0</td>\n",
       "      <td>Ativa</td>\n",
       "      <td>885</td>\n",
       "      <td>0.600000</td>\n",
       "      <td>4</td>\n",
       "      <td>S/C</td>\n",
       "      <td>2.5174</td>\n",
       "      <td>2.6176</td>\n",
       "      <td>2.5861</td>\n",
       "      <td>1</td>\n",
       "      <td>-0.038257</td>\n",
       "      <td>1882</td>\n",
       "      <td>0.111052</td>\n",
       "      <td>1</td>\n",
       "      <td>9.297316e+06</td>\n",
       "      <td>0.662687</td>\n",
       "    </tr>\n",
       "    <tr>\n",
       "      <th>2175</th>\n",
       "      <td>13897</td>\n",
       "      <td>1</td>\n",
       "      <td>Ativa</td>\n",
       "      <td>2506</td>\n",
       "      <td>0.400000</td>\n",
       "      <td>3</td>\n",
       "      <td>3</td>\n",
       "      <td>2.3561</td>\n",
       "      <td>2.2901</td>\n",
       "      <td>0</td>\n",
       "      <td>1</td>\n",
       "      <td>-0.047619</td>\n",
       "      <td>357</td>\n",
       "      <td>0.000000</td>\n",
       "      <td>2</td>\n",
       "      <td>1.210978e+06</td>\n",
       "      <td>-0.000753</td>\n",
       "    </tr>\n",
       "    <tr>\n",
       "      <th>2176</th>\n",
       "      <td>667</td>\n",
       "      <td>0</td>\n",
       "      <td>Ativa</td>\n",
       "      <td>7220</td>\n",
       "      <td>0.379310</td>\n",
       "      <td>5</td>\n",
       "      <td>S/C</td>\n",
       "      <td>1.7053</td>\n",
       "      <td>2.2072</td>\n",
       "      <td>1.8765</td>\n",
       "      <td>1</td>\n",
       "      <td>0.868035</td>\n",
       "      <td>341</td>\n",
       "      <td>0.272727</td>\n",
       "      <td>8</td>\n",
       "      <td>-1.043759e+06</td>\n",
       "      <td>0.000000</td>\n",
       "    </tr>\n",
       "  </tbody>\n",
       "</table>\n",
       "<p>2177 rows × 17 columns</p>\n",
       "</div>"
      ],
      "text/plain": [
       "      Codigo da IES  Natureza Situacao  DIAS         % CI N CI V   IGC_N  \\\n",
       "0              5124         1    Ativa  3941  0.411765    3    3  1.9541   \n",
       "1              1313         0    Ativa    97  0.625000    4    3  2.3891   \n",
       "2             13856         1    Ativa  2772  0.705882    3    3   2.102   \n",
       "3              2380         1    Ativa   616  0.645161    3    3  2.7588   \n",
       "4             21685         1    Ativa   161  0.400000  S/C  S/C     S/D   \n",
       "...             ...       ...      ...   ...       ...  ...  ...     ...   \n",
       "2172          21215         0    Ativa   516  1.000000    4  S/C     S/D   \n",
       "2173           1465         1    Ativa  7042  0.370370    3    3  2.1593   \n",
       "2174            638         0    Ativa   885  0.600000    4  S/C  2.5174   \n",
       "2175          13897         1    Ativa  2506  0.400000    3    3  2.3561   \n",
       "2176            667         0    Ativa  7220  0.379310    5  S/C  1.7053   \n",
       "\n",
       "       IGC_M   IGC_V  EAD_17  variacao mat  mat_T 2017    % FIES  CURSOS  \\\n",
       "0     2.0332  2.0332       1      1.207921         101  0.059406       2   \n",
       "1     2.5598  2.5598       1     -0.048218        2385  0.017191      10   \n",
       "2      2.102   2.102       0      0.000000           0  0.000000       0   \n",
       "3     2.7945  2.7945       1      0.089311        2844  0.441280       6   \n",
       "4        S/D     S/D       0      0.000000           0  0.000000      -3   \n",
       "...      ...     ...     ...           ...         ...       ...     ...   \n",
       "2172     S/D     S/D       0      0.000000           0  0.000000       0   \n",
       "2173  2.4112  2.4112       1      0.524721        1254  0.614035      13   \n",
       "2174  2.6176  2.5861       1     -0.038257        1882  0.111052       1   \n",
       "2175  2.2901       0       1     -0.047619         357  0.000000       2   \n",
       "2176  2.2072  1.8765       1      0.868035         341  0.272727       8   \n",
       "\n",
       "        saldo 2017  Variacao 17-16  \n",
       "0     2.404375e+08       77.190924  \n",
       "1     2.404375e+08        9.523631  \n",
       "2     0.000000e+00        0.000000  \n",
       "3     8.838117e+08        0.060665  \n",
       "4     0.000000e+00        0.000000  \n",
       "...            ...             ...  \n",
       "2172  0.000000e+00        0.000000  \n",
       "2173  2.404375e+08        6.803505  \n",
       "2174  9.297316e+06        0.662687  \n",
       "2175  1.210978e+06       -0.000753  \n",
       "2176 -1.043759e+06        0.000000  \n",
       "\n",
       "[2177 rows x 17 columns]"
      ]
     },
     "execution_count": 7,
     "metadata": {},
     "output_type": "execute_result"
    }
   ],
   "source": [
    "df = pd.DataFrame()\n",
    "df = pd.read_csv('../../data/trabalho2_dados10.csv')\n",
    "df"
   ]
  },
  {
   "cell_type": "markdown",
   "metadata": {},
   "source": [
    "----------------------------------------"
   ]
  },
  {
   "cell_type": "markdown",
   "metadata": {},
   "source": [
    "## Análises Pré-processamento:"
   ]
  },
  {
   "cell_type": "markdown",
   "metadata": {},
   "source": [
    "### Descrição dos Dados:"
   ]
  },
  {
   "cell_type": "markdown",
   "metadata": {},
   "source": [
    "    - COLUNA             DESCRIÇÃO                                    TYPE\n",
    "    - ----------------------------------------------------------------------------------\n",
    "    - Codigo da IES:   |  Id da instituição                          | Inteiro\n",
    "    - Natureza:        |  Com ou sem fins lucrativos                 | Binário\n",
    "    - Situação:        |  Ativa ou Extinta                           | Binário\n",
    "    - DIAS:            |  Dias após o último ato institucional       | Inteiro\n",
    "    - %:               |  % Cursos com mais de 5 anos sem AR         | Contínuo\n",
    "    - CI N:            |  Conceito Institucional mais recente        | 1 a 5\n",
    "    - CI V:            |  Penúltimo Conceito Institucional           | 1 a 5\n",
    "    - IGC_N:           |  IGC mais recente                           | Inteiro\n",
    "    - IGC_M:           |  Penúltimo IGC                              | Inteiro\n",
    "    - IGC_V:           |  Antepenúltimo IGC                          | Inteiro\n",
    "    - EAD_17:          |  Ofertou EAD em 2017                        | Binário\n",
    "    - variacao_mat:    |  Variação de matrículas entre 2016 e 2017   | Contínuo\n",
    "    - mat_T 2017:      |  Total de matrículas em 2017                | Inteiro\n",
    "    - % FIES:          |  % de matrículas com FIES em 2017           | Contínuo\n",
    "    - CURSOS:          |  Quantidade de cursos informados no censo   | Inteiro\n",
    "    - saldo 2017:      |  Diferença entre receita e dispensa em 2017 | Contínuo\n",
    "    - Variacao 17-16:  |  Variação do saldo entr 2016 e 2017         | Contínuo"
   ]
  },
  {
   "cell_type": "markdown",
   "metadata": {},
   "source": [
    "---------------------------------------------"
   ]
  },
  {
   "cell_type": "code",
   "execution_count": null,
   "metadata": {},
   "outputs": [],
   "source": [
    "### Quantidade de registros com valor ausente"
   ]
  },
  {
   "cell_type": "code",
   "execution_count": 3,
   "metadata": {},
   "outputs": [
    {
     "name": "stdout",
     "output_type": "stream",
     "text": [
      "A porcentagem de linhas com pelo menos uma coluna contendo 'S/D' é: 31.24%\n"
     ]
    }
   ],
   "source": [
    "# Verifique se qualquer coluna contém \"S/D\" em cada linha\n",
    "contains_sd = df.apply(lambda row: row.str.contains('S/D').any(), axis=1)\n",
    "\n",
    "# Calcule a porcentagem de linhas com pelo menos uma coluna contendo \"S/D\"\n",
    "percentage_with_sd = (contains_sd.sum() / len(df)) * 100\n",
    "\n",
    "print(f\"A porcentagem de linhas com pelo menos uma coluna contendo 'S/D' é: {percentage_with_sd:.2f}%\")"
   ]
  },
  {
   "cell_type": "code",
   "execution_count": 4,
   "metadata": {},
   "outputs": [
    {
     "name": "stdout",
     "output_type": "stream",
     "text": [
      "A porcentagem de linhas com mais de uma ocorrência de 'S/D' é: 31.24%\n"
     ]
    }
   ],
   "source": [
    "# Conte o número de ocorrências de 'S/D' em cada linha\n",
    "count_sd = df.apply(lambda row: row.str.count('S/D').sum(), axis=1)\n",
    "\n",
    "# Calcule a porcentagem de linhas com mais de uma ocorrência de 'S/D'\n",
    "percentage_with_multiple_sd = (len(count_sd[count_sd > 1]) / len(df)) * 100\n",
    "\n",
    "print(f\"A porcentagem de linhas com mais de uma ocorrência de 'S/D' é: {percentage_with_multiple_sd:.2f}%\")"
   ]
  },
  {
   "cell_type": "code",
   "execution_count": null,
   "metadata": {},
   "outputs": [],
   "source": [
    "# Remova as colunas \"Codigo da IES\" e \"DIAS\"\n",
    "df = df.drop(columns=[\"Codigo da IES\", \"DIAS\"])\n",
    "\n",
    "# Selecione todas as colunas numéricas restantes\n",
    "numeric_columns = df.select_dtypes(include=['number'])\n",
    "\n",
    "# Verifique se todos os valores nas colunas numéricas são iguais a zero\n",
    "all_zeros = (numeric_columns == 0).all(axis=1)\n",
    "\n",
    "# Calcule a porcentagem de linhas onde todas as colunas numéricas (exceto \"Codigo da IES\" e \"DIAS\") são iguais a zero\n",
    "percentage_all_zeros = (all_zeros.sum() / len(df)) * 100\n",
    "\n",
    "print(f\"A porcentagem de linhas onde todas as colunas numéricas (exceto 'Codigo da IES' e 'DIAS') são iguais a zero é: {percentage_all_zeros:.2f}%\")"
   ]
  },
  {
   "cell_type": "code",
   "execution_count": null,
   "metadata": {},
   "outputs": [],
   "source": [
    "# Crie um DataFrame temporário excluindo as colunas \"Codigo da IES\", \"DIAS\", \"Natureza\" e \"Situacao\"\n",
    "df_temp = df.drop(columns=[\"Codigo da IES\", \"DIAS\", \"Natureza\", \"Situacao\"])\n",
    "\n",
    "# Verifique se \"S/D\" ocorre em cada linha (retorna True/False)\n",
    "contains_sd = df_temp.apply(lambda row: row.str.contains('S/D').any(), axis=1)\n",
    "\n",
    "# Calcule a porcentagem de colunas em que \"S/D\" ocorre para cada linha\n",
    "percentage_sd_per_row = (df_temp[contains_sd].apply(lambda row: (row == 'S/D').sum(), axis=1) / df_temp[contains_sd].shape[1]) * 100\n",
    "\n",
    "# Calcule a média das porcentagens\n",
    "average_percentage_sd = percentage_sd_per_row.mean()\n",
    "\n",
    "print(f\"A média da porcentagem de colunas em que 'S/D' ocorre nas linhas (ignorando 'Codigo da IES', 'DIAS', 'Natureza' e 'Situacao') é: {average_percentage_sd:.2f}%\")"
   ]
  },
  {
   "cell_type": "markdown",
   "metadata": {},
   "source": [
    "------------------------------------------"
   ]
  },
  {
   "cell_type": "markdown",
   "metadata": {},
   "source": [
    "### Verificando Inconsistências:"
   ]
  },
  {
   "cell_type": "code",
   "execution_count": 9,
   "metadata": {},
   "outputs": [
    {
     "data": {
      "text/plain": [
       "Codigo da IES       int64\n",
       "Natureza            int64\n",
       "Situacao           object\n",
       "DIAS                int64\n",
       "%                 float64\n",
       "CI N               object\n",
       "CI V               object\n",
       "IGC_N              object\n",
       "IGC_M              object\n",
       "IGC_V              object\n",
       "EAD_17              int64\n",
       "variacao mat      float64\n",
       "mat_T 2017          int64\n",
       "% FIES            float64\n",
       "CURSOS              int64\n",
       "saldo 2017        float64\n",
       "Variacao 17-16    float64\n",
       "dtype: object"
      ]
     },
     "execution_count": 9,
     "metadata": {},
     "output_type": "execute_result"
    }
   ],
   "source": [
    "df.dtypes"
   ]
  },
  {
   "cell_type": "code",
   "execution_count": 10,
   "metadata": {},
   "outputs": [],
   "source": [
    "df_1 = df[['Codigo da IES', 'Natureza', 'DIAS', '%', 'EAD_17', 'variacao mat', 'mat_T 2017', '% FIES', \n",
    "           'CURSOS', 'saldo 2017', 'Variacao 17-16']]\n",
    "\n",
    "df_2 = df[['Situacao', 'CI N', 'CI V', 'IGC_N', 'IGC_M', 'IGC_V']]"
   ]
  },
  {
   "cell_type": "code",
   "execution_count": 13,
   "metadata": {},
   "outputs": [
    {
     "data": {
      "text/plain": [
       "Codigo da IES     0\n",
       "Natureza          0\n",
       "DIAS              0\n",
       "%                 0\n",
       "EAD_17            0\n",
       "variacao mat      0\n",
       "mat_T 2017        0\n",
       "% FIES            0\n",
       "CURSOS            0\n",
       "saldo 2017        0\n",
       "Variacao 17-16    0\n",
       "dtype: int64"
      ]
     },
     "execution_count": 13,
     "metadata": {},
     "output_type": "execute_result"
    }
   ],
   "source": [
    "df_1.isna().sum()"
   ]
  },
  {
   "cell_type": "code",
   "execution_count": 23,
   "metadata": {},
   "outputs": [
    {
     "data": {
      "text/plain": [
       "Codigo da IES     0\n",
       "Natureza          0\n",
       "DIAS              0\n",
       "%                 0\n",
       "EAD_17            0\n",
       "variacao mat      0\n",
       "mat_T 2017        0\n",
       "% FIES            0\n",
       "CURSOS            0\n",
       "saldo 2017        0\n",
       "Variacao 17-16    0\n",
       "dtype: int64"
      ]
     },
     "execution_count": 23,
     "metadata": {},
     "output_type": "execute_result"
    }
   ],
   "source": [
    "df_1.isin(['S/C']).sum(axis=0)"
   ]
  },
  {
   "cell_type": "code",
   "execution_count": 24,
   "metadata": {},
   "outputs": [
    {
     "data": {
      "text/plain": [
       "Codigo da IES     0\n",
       "Natureza          0\n",
       "DIAS              0\n",
       "%                 0\n",
       "EAD_17            0\n",
       "variacao mat      0\n",
       "mat_T 2017        0\n",
       "% FIES            0\n",
       "CURSOS            0\n",
       "saldo 2017        0\n",
       "Variacao 17-16    0\n",
       "dtype: int64"
      ]
     },
     "execution_count": 24,
     "metadata": {},
     "output_type": "execute_result"
    }
   ],
   "source": [
    "df_1.isin(['S/D']).sum(axis=0)"
   ]
  },
  {
   "cell_type": "code",
   "execution_count": 14,
   "metadata": {},
   "outputs": [
    {
     "data": {
      "text/plain": [
       "Situacao      0\n",
       "CI N          0\n",
       "CI V          0\n",
       "IGC_N         0\n",
       "IGC_M         0\n",
       "IGC_V       185\n",
       "dtype: int64"
      ]
     },
     "execution_count": 14,
     "metadata": {},
     "output_type": "execute_result"
    }
   ],
   "source": [
    "df_2.isna().sum()"
   ]
  },
  {
   "cell_type": "code",
   "execution_count": 20,
   "metadata": {},
   "outputs": [
    {
     "data": {
      "text/plain": [
       "Situacao       0\n",
       "CI N         371\n",
       "CI V        1089\n",
       "IGC_N          0\n",
       "IGC_M          0\n",
       "IGC_V          0\n",
       "dtype: int64"
      ]
     },
     "execution_count": 20,
     "metadata": {},
     "output_type": "execute_result"
    }
   ],
   "source": [
    "df_2.isin(['S/C']).sum(axis=0)"
   ]
  },
  {
   "cell_type": "code",
   "execution_count": 21,
   "metadata": {},
   "outputs": [
    {
     "data": {
      "text/plain": [
       "Situacao      0\n",
       "CI N         98\n",
       "CI V         98\n",
       "IGC_N       679\n",
       "IGC_M       678\n",
       "IGC_V       618\n",
       "dtype: int64"
      ]
     },
     "execution_count": 21,
     "metadata": {},
     "output_type": "execute_result"
    }
   ],
   "source": [
    "df_2.isin(['S/D']).sum(axis=0)"
   ]
  },
  {
   "cell_type": "markdown",
   "metadata": {},
   "source": [
    "-------------------------------------"
   ]
  }
 ],
 "metadata": {
  "kernelspec": {
   "display_name": "Python 3 (ipykernel)",
   "language": "python",
   "name": "python3"
  },
  "language_info": {
   "codemirror_mode": {
    "name": "ipython",
    "version": 3
   },
   "file_extension": ".py",
   "mimetype": "text/x-python",
   "name": "python",
   "nbconvert_exporter": "python",
   "pygments_lexer": "ipython3",
   "version": "3.11.4"
  }
 },
 "nbformat": 4,
 "nbformat_minor": 2
}
